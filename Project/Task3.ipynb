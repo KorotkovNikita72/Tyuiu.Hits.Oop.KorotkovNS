{
 "cells": [
  {
   "cell_type": "markdown",
   "metadata": {},
   "source": [
    "<h1 style=\"color:DodgerBlue\">Индивидальный проект</h1>"
   ]
  },
  {
   "cell_type": "markdown",
   "metadata": {},
   "source": [
    "<h2 style=\"color:DodgerBlue\">Название проекта:</h2>\n",
    "\n",
    "----\n",
    "\n",
    "### Вариант задания \n"
   ]
  },
  {
   "cell_type": "markdown",
   "metadata": {},
   "source": [
    "<h2 style=\"color:DodgerBlue\">Описание проекта:</h2>\n",
    "\n",
    "----\n",
    "\n",
    "[ваш текст]\n",
    "\n",
    "#### Дополнительное задание\n",
    "Добавьте к сущестующим классам конструктора классов с использованием гетторов и сетторов и реализуйте взаимодействие объектов между собой"
   ]
  },
  {
   "cell_type": "markdown",
   "metadata": {},
   "source": [
    "<h2 style=\"color:DodgerBlue\">Реализация:</h2>\n",
    "\n",
    "----"
   ]
  },
  {
   "cell_type": "code",
   "execution_count": 7,
   "metadata": {
    "dotnet_interactive": {
     "language": "csharp"
    },
    "polyglot_notebook": {
     "kernelName": "csharp"
    }
   },
   "outputs": [
    {
     "name": "stdout",
     "output_type": "stream",
     "text": [
      "ИНФОРМАЦИЯ О МАГАЗИНЕ:\n",
      "======================\n",
      "Название магазина: Продукты, Местоположение: Центр, часы работы: Круглосуточно\n",
      "\n",
      "ИНФОРМАЦИЯ О ПРОДАВЦЕ:\n",
      "======================\n",
      "Имя: Никита, ID: К1237, Зарплата: 30000.00, Контакты: tresh78803@gmail.com\n",
      "\n",
      "СПИСОК ТОВАРОВ:\n",
      "===============\n",
      "Список товаров в магазине:\n",
      "==========================\n",
      "\n",
      "Товары продавца Имя: Никита, ID: К1237, Зарплата: 30000.00, Контакты: tresh78803@gmail.com:\n",
      "----------------------------------------\n",
      "- Наименование: Апельсины, Цена: 120, Количество: 100, Категория: Фрукты, Описание: Апельсиновый сок\n"
     ]
    }
   ],
   "source": [
    "using System;\n",
    "using System.Collections.Generic;\n",
    "\n",
    "// Класс Товар (Product)\n",
    "public class Product\n",
    "{\n",
    "    private string name;\n",
    "    private decimal price;\n",
    "    private int quantity;\n",
    "    protected string category;\n",
    "    internal string description;\n",
    "\n",
    "    public Product(string name, decimal price, int quantity, string category, string description)\n",
    "    {\n",
    "        this.name = name;\n",
    "        this.price = price;\n",
    "        this.quantity = quantity;\n",
    "        this.category = category;\n",
    "        this.description = description;\n",
    "    }\n",
    "\n",
    "    public decimal GetTotalPrice()\n",
    "    {\n",
    "        return price * quantity;\n",
    "    }\n",
    "\n",
    "    public void UpdateQuantity(int amount)\n",
    "    {\n",
    "        quantity += amount;\n",
    "    }\n",
    "\n",
    "    public string GetProductInfo()\n",
    "    {\n",
    "        return $\"Наименование: {name}, Цена: {price}, Количество: {quantity}, Категория: {category}, Описание: {description}\";\n",
    "    }\n",
    "}\n",
    "\n",
    "// Класс Продавец (Seller)\n",
    "public class Seller\n",
    "{\n",
    "    private string name;\n",
    "    private string employeeId;\n",
    "    protected decimal salary;\n",
    "    internal string contactInfo;\n",
    "    private List<Product> products = new List<Product>();\n",
    "\n",
    "    public Seller(string name, string employeeId, decimal salary, string contactInfo)\n",
    "    {\n",
    "        this.name = name;\n",
    "        this.employeeId = employeeId;\n",
    "        this.salary = salary;\n",
    "        this.contactInfo = contactInfo;\n",
    "    }\n",
    "\n",
    "    public void AddProduct(Product product)\n",
    "    {\n",
    "        products.Add(product);\n",
    "    }\n",
    "\n",
    "    public void SellProduct(Product product, int quantity)\n",
    "    {\n",
    "        product.UpdateQuantity(-quantity);\n",
    "    }\n",
    "\n",
    "    public string GetSellerInfo()\n",
    "    {\n",
    "        return $\"Имя: {name}, ID: {employeeId}, Зарплата: {salary}, Контакты: {contactInfo}\";\n",
    "    }\n",
    "\n",
    "    // Чтобы магазин мог перечислить все товары продавца\n",
    "    public List<Product> GetProducts()\n",
    "    {\n",
    "        return products;\n",
    "    }\n",
    "}\n",
    "\n",
    "// Класс Магазин (Store)\n",
    "public class Store\n",
    "{\n",
    "    private string storeName;\n",
    "    private string location;\n",
    "    public string storeHours;\n",
    "    private List<Seller> sellers = new List<Seller>();\n",
    "\n",
    "    public Store(string storeName, string location, string storeHours)\n",
    "    {\n",
    "        this.storeName = storeName;\n",
    "        this.location = location;\n",
    "        this.storeHours = storeHours;\n",
    "    }\n",
    "\n",
    "    public void AddSeller(Seller seller)\n",
    "    {\n",
    "        sellers.Add(seller);\n",
    "    }\n",
    "\n",
    "    public void ListProducts()\n",
    "    {\n",
    "        Console.WriteLine(\"Список товаров в магазине:\");\n",
    "        Console.WriteLine(\"==========================\");\n",
    "        \n",
    "        foreach (var seller in sellers)\n",
    "        {\n",
    "            Console.WriteLine($\"\\nТовары продавца {seller.GetSellerInfo()}:\");\n",
    "            Console.WriteLine(\"----------------------------------------\");\n",
    "            \n",
    "            var sellerProducts = seller.GetProducts();\n",
    "            if (sellerProducts.Count == 0)\n",
    "            {\n",
    "                Console.WriteLine(\"Товаров нет\");\n",
    "            }\n",
    "            else\n",
    "            {\n",
    "                foreach (var product in sellerProducts)\n",
    "                {\n",
    "                    Console.WriteLine($\"- {product.GetProductInfo()}\");\n",
    "                }\n",
    "            }\n",
    "        }\n",
    "    }\n",
    "\n",
    "    public string GetStoreInfo()\n",
    "    {\n",
    "        return $\"Название магазина: {storeName}, Местоположение: {location}, часы работы: {storeHours}\";\n",
    "    }\n",
    "}\n",
    "\n",
    "// Основной код\n",
    "Product product = new Product(\"Апельсины\", 120m, 100, \"Фрукты\", \"Апельсиновый сок\");\n",
    "Seller seller = new Seller(\"Никита\", \"К1237\", 30000.00m, \"tresh78803@gmail.com\");\n",
    "seller.AddProduct(product);\n",
    "Store store = new Store(\"Продукты\", \"Центр\", \"Круглосуточно\");\n",
    "store.AddSeller(seller);\n",
    "\n",
    "Console.WriteLine(\"ИНФОРМАЦИЯ О МАГАЗИНЕ:\");\n",
    "Console.WriteLine(\"======================\");\n",
    "Console.WriteLine(store.GetStoreInfo());\n",
    "\n",
    "Console.WriteLine(\"\\nИНФОРМАЦИЯ О ПРОДАВЦЕ:\");\n",
    "Console.WriteLine(\"======================\");\n",
    "Console.WriteLine(seller.GetSellerInfo());\n",
    "\n",
    "Console.WriteLine(\"\\nСПИСОК ТОВАРОВ:\");\n",
    "Console.WriteLine(\"===============\");\n",
    "store.ListProducts();"
   ]
  }
 ],
 "metadata": {
  "kernelspec": {
   "display_name": ".NET (C#)",
   "language": "C#",
   "name": ".net-csharp"
  },
  "polyglot_notebook": {
   "kernelInfo": {
    "defaultKernelName": "csharp",
    "items": [
     {
      "aliases": [],
      "languageName": "csharp",
      "name": "csharp"
     }
    ]
   }
  }
 },
 "nbformat": 4,
 "nbformat_minor": 2
}
